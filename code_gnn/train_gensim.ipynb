{
 "cells": [
  {
   "cell_type": "code",
   "execution_count": 1,
   "source": [
    "import logging\r\n",
    "logging.basicConfig(format='%(asctime)s : %(levelname)s : %(message)s', level=logging.INFO)"
   ],
   "outputs": [],
   "metadata": {
    "collapsed": true,
    "pycharm": {
     "name": "#%%\n",
     "is_executing": true
    }
   }
  },
  {
   "cell_type": "code",
   "execution_count": 2,
   "source": [
    "# Tutorial for downloading pretrained model\r\n",
    "import os\r\n",
    "os.environ[\"GENSIM_DATA_DIR\"] = 'D:/gensim-data'\r\n",
    "import gensim.downloader as api\r\n",
    "\r\n",
    "wv_path = api.load('word2vec-google-news-300', return_path=True)\r\n",
    "print(wv_path)\r\n",
    "wv = api.load('word2vec-google-news-300')\r\n",
    "\r\n",
    "for index, word in enumerate(wv.index_to_key):\r\n",
    "    if index == 10:\r\n",
    "        break\r\n",
    "    print(f\"word #{index}/{len(wv.index_to_key)} is {word}\")\r\n",
    "\r\n",
    "pairs = [\r\n",
    "    ('car', 'minivan'),   # a minivan is a kind of car\r\n",
    "    ('car', 'bicycle'),   # still a wheeled vehicle\r\n",
    "    ('car', 'airplane'),  # ok, no wheels, but still a vehicle\r\n",
    "    ('car', 'cereal'),    # ... and so on\r\n",
    "    ('car', 'communism'),\r\n",
    "]\r\n",
    "for w1, w2 in pairs:\r\n",
    "    print('%r\\t%r\\t%.2f' % (w1, w2, wv.similarity(w1, w2)))"
   ],
   "outputs": [
    {
     "output_type": "stream",
     "name": "stdout",
     "text": [
      "[==================================================] 100.0% 1662.8/1662.8MB downloaded\n"
     ]
    },
    {
     "output_type": "stream",
     "name": "stderr",
     "text": [
      "2021-10-07 11:53:39,850 : INFO : word2vec-google-news-300 downloaded\n",
      "2021-10-07 11:53:41,739 : INFO : loading projection weights from D:/gensim-data\\word2vec-google-news-300\\word2vec-google-news-300.gz\n"
     ]
    },
    {
     "output_type": "stream",
     "name": "stdout",
     "text": [
      "D:/gensim-data\\word2vec-google-news-300\\word2vec-google-news-300.gz\n"
     ]
    },
    {
     "output_type": "stream",
     "name": "stderr",
     "text": [
      "2021-10-07 11:55:12,969 : INFO : KeyedVectors lifecycle event {'msg': 'loaded (3000000, 300) matrix of type float32 from D:/gensim-data\\\\word2vec-google-news-300\\\\word2vec-google-news-300.gz', 'binary': True, 'encoding': 'utf8', 'datetime': '2021-10-07T11:55:12.966151', 'gensim': '4.1.2', 'python': '3.8.12 | packaged by conda-forge | (default, Sep 29 2021, 19:14:40) [MSC v.1916 64 bit (AMD64)]', 'platform': 'Windows-10-10.0.19043-SP0', 'event': 'load_word2vec_format'}\n"
     ]
    },
    {
     "output_type": "stream",
     "name": "stdout",
     "text": [
      "word #0/3000000 is </s>\n",
      "word #1/3000000 is in\n",
      "word #2/3000000 is for\n",
      "word #3/3000000 is that\n",
      "word #4/3000000 is is\n",
      "word #5/3000000 is on\n",
      "word #6/3000000 is ##\n",
      "word #7/3000000 is The\n",
      "word #8/3000000 is with\n",
      "word #9/3000000 is said\n",
      "'car'\t'minivan'\t0.69\n",
      "'car'\t'bicycle'\t0.54\n",
      "'car'\t'airplane'\t0.42\n",
      "'car'\t'cereal'\t0.14\n",
      "'car'\t'communism'\t0.06\n"
     ]
    }
   ],
   "metadata": {
    "collapsed": false,
    "pycharm": {
     "name": "#%%\n",
     "is_executing": true
    }
   }
  },
  {
   "cell_type": "code",
   "execution_count": 14,
   "source": [
    "# Loading my own corpus\r\n",
    "import json\r\n",
    "from gensim import utils\r\n",
    "import gensim.models"
   ],
   "outputs": [],
   "metadata": {
    "collapsed": false,
    "pycharm": {
     "name": "#%%\n",
     "is_executing": true
    }
   }
  },
  {
   "cell_type": "code",
   "execution_count": 15,
   "source": [
    "class DevignCorpus:\r\n",
    "    \"\"\"An iterator that yields sentences (lists of str).\"\"\"\r\n",
    "\r\n",
    "    def __iter__(self):\r\n",
    "        with open('data/devign/function.json') as f:\r\n",
    "            data = json.load(f)\r\n",
    "        for item in data:\r\n",
    "            # assume there's one document per line, tokens separated by whitespace\r\n",
    "            yield utils.simple_preprocess(item[\"func\"])"
   ],
   "outputs": [],
   "metadata": {}
  },
  {
   "cell_type": "code",
   "execution_count": 23,
   "source": [
    "class ReVealCorpus:\r\n",
    "    \"\"\"An iterator that yields sentences (lists of str).\"\"\"\r\n",
    "\r\n",
    "    def __iter__(self):\r\n",
    "        filenames = ['data/reveal/vulnerables.json', 'data/reveal/non-vulnerables.json']\r\n",
    "        for fname in filenames:\r\n",
    "            with open(fname) as f:\r\n",
    "                data = json.load(f)\r\n",
    "            for item in data:\r\n",
    "                # assume there's one document per line, tokens separated by whitespace\r\n",
    "                yield utils.simple_preprocess(item[\"code\"])"
   ],
   "outputs": [],
   "metadata": {}
  },
  {
   "cell_type": "code",
   "execution_count": 25,
   "source": [
    "def evaluate_words(wv):\r\n",
    "    pairs = [\r\n",
    "        ('int', 'long'),\r\n",
    "        ('int', 'static'),\r\n",
    "        ('long', 'static'),\r\n",
    "        ('char', '*'),\r\n",
    "        ('if', 'else'),\r\n",
    "    ]\r\n",
    "    for w1, w2 in pairs:\r\n",
    "        try:\r\n",
    "            print('%r\\t%r\\t%.2f' % (w1, w2, wv.similarity(w1, w2)))\r\n",
    "        except KeyError as e:\r\n",
    "            print(e)\r\n",
    "\r\n",
    "corpuses = {\r\n",
    "    \"devign\": DevignCorpus,\r\n",
    "    \"reveal\": ReVealCorpus,\r\n",
    "}\r\n",
    "for corpus in corpuses:\r\n",
    "    corpus_pretrained = corpus + '.wv'\r\n",
    "    if os.path.exists(corpus_pretrained):\r\n",
    "        model = gensim.models.Word2Vec.load(corpus_pretrained)\r\n",
    "    else:\r\n",
    "        sentences = corpuses[corpus]()\r\n",
    "        model = gensim.models.Word2Vec(sentences=sentences, workers=8, vector_size=100)\r\n",
    "        model.save(corpus_pretrained)\r\n",
    "    evaluate_words(model.wv)\r\n",
    "    for index, word in enumerate(model.wv.index_to_key):\r\n",
    "        if index == 10:\r\n",
    "            break\r\n",
    "        print(f\"word #{index}/{len(model.wv.index_to_key)} is {word}\")"
   ],
   "outputs": [
    {
     "output_type": "stream",
     "name": "stderr",
     "text": [
      "2021-10-07 12:48:41,577 : INFO : loading Word2Vec object from devign.wv\n",
      "2021-10-07 12:48:41,619 : INFO : loading wv recursively from devign.wv.wv.* with mmap=None\n",
      "2021-10-07 12:48:41,621 : INFO : setting ignored attribute cum_table to None\n",
      "2021-10-07 12:48:42,222 : INFO : Word2Vec lifecycle event {'fname': 'devign.wv', 'datetime': '2021-10-07T12:48:42.222356', 'gensim': '4.1.2', 'python': '3.8.12 | packaged by conda-forge | (default, Sep 29 2021, 19:14:40) [MSC v.1916 64 bit (AMD64)]', 'platform': 'Windows-10-10.0.19043-SP0', 'event': 'loaded'}\n",
      "2021-10-07 12:48:42,228 : INFO : loading Word2Vec object from reveal.wv\n",
      "2021-10-07 12:48:42,267 : INFO : loading wv recursively from reveal.wv.wv.* with mmap=None\n",
      "2021-10-07 12:48:42,268 : INFO : setting ignored attribute cum_table to None\n"
     ]
    },
    {
     "output_type": "stream",
     "name": "stdout",
     "text": [
      "'int'\t'long'\t0.15\n",
      "'int'\t'static'\t0.55\n",
      "'long'\t'static'\t0.08\n",
      "\"Key '*' not present\"\n",
      "'if'\t'else'\t0.68\n",
      "word #0/40397 is if\n",
      "word #1/40397 is int\n",
      "word #2/40397 is return\n",
      "word #3/40397 is case\n",
      "word #4/40397 is break\n",
      "word #5/40397 is else\n",
      "word #6/40397 is ret\n",
      "word #7/40397 is avctx\n",
      "word #8/40397 is for\n",
      "word #9/40397 is uint\n"
     ]
    },
    {
     "output_type": "stream",
     "name": "stderr",
     "text": [
      "2021-10-07 12:48:42,657 : INFO : Word2Vec lifecycle event {'fname': 'reveal.wv', 'datetime': '2021-10-07T12:48:42.657991', 'gensim': '4.1.2', 'python': '3.8.12 | packaged by conda-forge | (default, Sep 29 2021, 19:14:40) [MSC v.1916 64 bit (AMD64)]', 'platform': 'Windows-10-10.0.19043-SP0', 'event': 'loaded'}\n"
     ]
    },
    {
     "output_type": "stream",
     "name": "stdout",
     "text": [
      "'int'\t'long'\t0.28\n",
      "'int'\t'static'\t0.49\n",
      "'long'\t'static'\t0.14\n",
      "\"Key '*' not present\"\n",
      "'if'\t'else'\t0.61\n",
      "word #0/30612 is if\n",
      "word #1/30612 is int\n",
      "word #2/30612 is null\n",
      "word #3/30612 is return\n",
      "word #4/30612 is const\n",
      "word #5/30612 is offset\n",
      "word #6/30612 is else\n",
      "word #7/30612 is char\n",
      "word #8/30612 is void\n",
      "word #9/30612 is static\n"
     ]
    }
   ],
   "metadata": {}
  }
 ],
 "metadata": {
  "kernelspec": {
   "name": "python3",
   "display_name": "Python 3.8.12 64-bit ('code_gnn': conda)"
  },
  "language_info": {
   "name": "python",
   "version": "3.8.12",
   "mimetype": "text/x-python",
   "codemirror_mode": {
    "name": "ipython",
    "version": 3
   },
   "pygments_lexer": "ipython3",
   "nbconvert_exporter": "python",
   "file_extension": ".py"
  },
  "interpreter": {
   "hash": "123c5e74196e019eec794a72f1d98320b78d8f3ae7d64c37b3810afad0e48470"
  }
 },
 "nbformat": 4,
 "nbformat_minor": 2
}