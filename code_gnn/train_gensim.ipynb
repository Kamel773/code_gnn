{
 "cells": [
  {
   "cell_type": "code",
   "execution_count": 1,
   "source": [
    "import logging\n",
    "logging.basicConfig(format='%(asctime)s : %(levelname)s : %(message)s', level=logging.INFO)"
   ],
   "outputs": [],
   "metadata": {
    "collapsed": true,
    "pycharm": {
     "name": "#%%\n"
    }
   }
  },
  {
   "cell_type": "code",
   "execution_count": 2,
   "source": [
    "# Tutorial for downloading pretrained model\n",
    "import os\n",
    "os.environ[\"GENSIM_DATA_DIR\"] = 'D:/gensim-data'\n",
    "import gensim.downloader as api\n",
    "\n",
    "wv_path = api.load('word2vec-google-news-300', return_path=True)\n",
    "print(wv_path)\n",
    "wv = api.load('word2vec-google-news-300')\n",
    "\n",
    "for index, word in enumerate(wv.index_to_key):\n",
    "    if index == 10:\n",
    "        break\n",
    "    print(f\"word #{index}/{len(wv.index_to_key)} is {word}\")\n",
    "\n",
    "pairs = [\n",
    "    ('car', 'minivan'),   # a minivan is a kind of car\n",
    "    ('car', 'bicycle'),   # still a wheeled vehicle\n",
    "    ('car', 'airplane'),  # ok, no wheels, but still a vehicle\n",
    "    ('car', 'cereal'),    # ... and so on\n",
    "    ('car', 'communism'),\n",
    "]\n",
    "for w1, w2 in pairs:\n",
    "    print('%r\\t%r\\t%.2f' % (w1, w2, wv.similarity(w1, w2)))"
   ],
   "outputs": [
    {
     "output_type": "stream",
     "name": "stdout",
     "text": [
      "[==================================================] 100.0% 1662.8/1662.8MB downloaded\n"
     ]
    },
    {
     "output_type": "stream",
     "name": "stderr",
     "text": [
      "2021-10-07 11:53:39,850 : INFO : word2vec-google-news-300 downloaded\n",
      "2021-10-07 11:53:41,739 : INFO : loading projection weights from D:/gensim-data\\word2vec-google-news-300\\word2vec-google-news-300.gz\n"
     ]
    },
    {
     "output_type": "stream",
     "name": "stdout",
     "text": [
      "D:/gensim-data\\word2vec-google-news-300\\word2vec-google-news-300.gz\n"
     ]
    },
    {
     "output_type": "stream",
     "name": "stderr",
     "text": [
      "2021-10-07 11:55:12,969 : INFO : KeyedVectors lifecycle event {'msg': 'loaded (3000000, 300) matrix of type float32 from D:/gensim-data\\\\word2vec-google-news-300\\\\word2vec-google-news-300.gz', 'binary': True, 'encoding': 'utf8', 'datetime': '2021-10-07T11:55:12.966151', 'gensim': '4.1.2', 'python': '3.8.12 | packaged by conda-forge | (default, Sep 29 2021, 19:14:40) [MSC v.1916 64 bit (AMD64)]', 'platform': 'Windows-10-10.0.19043-SP0', 'event': 'load_word2vec_format'}\n"
     ]
    },
    {
     "output_type": "stream",
     "name": "stdout",
     "text": [
      "word #0/3000000 is </s>\n",
      "word #1/3000000 is in\n",
      "word #2/3000000 is for\n",
      "word #3/3000000 is that\n",
      "word #4/3000000 is is\n",
      "word #5/3000000 is on\n",
      "word #6/3000000 is ##\n",
      "word #7/3000000 is The\n",
      "word #8/3000000 is with\n",
      "word #9/3000000 is said\n",
      "'car'\t'minivan'\t0.69\n",
      "'car'\t'bicycle'\t0.54\n",
      "'car'\t'airplane'\t0.42\n",
      "'car'\t'cereal'\t0.14\n",
      "'car'\t'communism'\t0.06\n"
     ]
    }
   ],
   "metadata": {
    "collapsed": false,
    "pycharm": {
     "name": "#%%\n",
     "is_executing": true
    }
   }
  },
  {
   "cell_type": "code",
   "execution_count": 6,
   "source": [
    "# Loading my own corpus\n",
    "import json\n",
    "import os\n",
    "from gensim import utils\n",
    "import gensim.models"
   ],
   "outputs": [],
   "metadata": {
    "collapsed": false,
    "pycharm": {
     "name": "#%%\n"
    }
   }
  },
  {
   "cell_type": "code",
   "execution_count": 2,
   "source": [
    "class DevignCorpus:\n",
    "    \"\"\"An iterator that yields sentences (lists of str).\"\"\"\n",
    "\n",
    "    def __iter__(self):\n",
    "        with open('data/devign/function.json') as f:\n",
    "            data = json.load(f)\n",
    "        for item in data:\n",
    "            # assume there's one document per line, tokens separated by whitespace\n",
    "            yield utils.simple_preprocess(item[\"func\"])"
   ],
   "outputs": [],
   "metadata": {}
  },
  {
   "cell_type": "code",
   "execution_count": 23,
   "source": [
    "class ReVealCorpus:\n",
    "    \"\"\"An iterator that yields sentences (lists of str).\"\"\"\n",
    "\n",
    "    def __iter__(self):\n",
    "        filenames = ['data/reveal/vulnerables.json', 'data/reveal/non-vulnerables.json']\n",
    "        for fname in filenames:\n",
    "            with open(fname) as f:\n",
    "                data = json.load(f)\n",
    "            for item in data:\n",
    "                # assume there's one document per line, tokens separated by whitespace\n",
    "                yield utils.simple_preprocess(item[\"code\"])"
   ],
   "outputs": [],
   "metadata": {}
  },
  {
   "cell_type": "code",
   "execution_count": 8,
   "source": [
    "def evaluate_words(wv):\n",
    "    pairs = [\n",
    "        ('int', 'long'),\n",
    "        ('int', 'static'),\n",
    "        ('long', 'static'),\n",
    "        ('char', '*'),\n",
    "        ('if', 'else'),\n",
    "    ]\n",
    "    for w1, w2 in pairs:\n",
    "        try:\n",
    "            print('%r\\t%r\\t%.2f' % (w1, w2, wv.similarity(w1, w2)))\n",
    "        except KeyError as e:\n",
    "            print(e)\n",
    "\n",
    "corpuses = {\n",
    "    \"devign\": DevignCorpus,\n",
    "    # \"reveal\": ReVealCorpus,\n",
    "}\n",
    "for corpus in corpuses:\n",
    "    corpus_pretrained = corpus + '.wv'\n",
    "    if os.path.exists(corpus_pretrained):\n",
    "        model = gensim.models.Word2Vec.load(corpus_pretrained)\n",
    "    else:\n",
    "        sentences = corpuses[corpus]()\n",
    "        model = gensim.models.Word2Vec(sentences=sentences, workers=8, window=10, vector_size=100)\n",
    "        model.save(os.path.join('../word2vec', corpus_pretrained))\n",
    "    evaluate_words(model.wv)\n",
    "    for index, word in enumerate(model.wv.index_to_key):\n",
    "        if index == 10:\n",
    "            break\n",
    "        print(f\"word #{index}/{len(model.wv.index_to_key)} is {word}\")"
   ],
   "outputs": [
    {
     "name": "stderr",
     "output_type": "stream",
     "text": [
      "2021-10-14 23:36:07,743 : INFO : collecting all words and their counts\n",
      "2021-10-14 23:36:08,545 : INFO : PROGRESS: at sentence #0, processed 0 words, keeping 0 word types\n",
      "2021-10-14 23:36:12,636 : INFO : PROGRESS: at sentence #10000, processed 1375441 words, keeping 54592 word types\n",
      "2021-10-14 23:36:16,188 : INFO : PROGRESS: at sentence #20000, processed 2708309 words, keeping 73958 word types\n",
      "2021-10-14 23:36:18,766 : INFO : collected 82130 word types from a corpus of 3737441 raw words and 27318 sentences\n",
      "2021-10-14 23:36:18,767 : INFO : Creating a fresh vocabulary\n",
      "2021-10-14 23:36:18,953 : INFO : Word2Vec lifecycle event {'msg': 'effective_min_count=5 retains 40397 unique words (49.1866553025691%% of original 82130, drops 41733)', 'datetime': '2021-10-14T23:36:18.953667', 'gensim': '4.1.2', 'python': '3.8.12 | packaged by conda-forge | (default, Sep 29 2021, 19:14:40) [MSC v.1916 64 bit (AMD64)]', 'platform': 'Windows-10-10.0.19043-SP0', 'event': 'prepare_vocab'}\n",
      "2021-10-14 23:36:18,954 : INFO : Word2Vec lifecycle event {'msg': 'effective_min_count=5 leaves 3647353 word corpus (97.58958067833044%% of original 3737441, drops 90088)', 'datetime': '2021-10-14T23:36:18.954706', 'gensim': '4.1.2', 'python': '3.8.12 | packaged by conda-forge | (default, Sep 29 2021, 19:14:40) [MSC v.1916 64 bit (AMD64)]', 'platform': 'Windows-10-10.0.19043-SP0', 'event': 'prepare_vocab'}\n",
      "2021-10-14 23:36:19,236 : INFO : deleting the raw counts dictionary of 82130 items\n",
      "2021-10-14 23:36:19,238 : INFO : sample=0.001 downsamples 42 most-common words\n",
      "2021-10-14 23:36:19,239 : INFO : Word2Vec lifecycle event {'msg': 'downsampling leaves estimated 3124511.0710573588 word corpus (85.7%% of prior 3647353)', 'datetime': '2021-10-14T23:36:19.239221', 'gensim': '4.1.2', 'python': '3.8.12 | packaged by conda-forge | (default, Sep 29 2021, 19:14:40) [MSC v.1916 64 bit (AMD64)]', 'platform': 'Windows-10-10.0.19043-SP0', 'event': 'prepare_vocab'}\n",
      "2021-10-14 23:36:19,687 : INFO : estimated required memory for 40397 words and 100 dimensions: 52516100 bytes\n",
      "2021-10-14 23:36:19,688 : INFO : resetting layer weights\n",
      "2021-10-14 23:36:19,706 : INFO : Word2Vec lifecycle event {'update': False, 'trim_rule': 'None', 'datetime': '2021-10-14T23:36:19.706269', 'gensim': '4.1.2', 'python': '3.8.12 | packaged by conda-forge | (default, Sep 29 2021, 19:14:40) [MSC v.1916 64 bit (AMD64)]', 'platform': 'Windows-10-10.0.19043-SP0', 'event': 'build_vocab'}\n",
      "2021-10-14 23:36:19,707 : INFO : Word2Vec lifecycle event {'msg': 'training model with 8 workers on 40397 vocabulary and 100 features, using sg=0 hs=0 sample=0.001 negative=5 window=10 shrink_windows=True', 'datetime': '2021-10-14T23:36:19.707224', 'gensim': '4.1.2', 'python': '3.8.12 | packaged by conda-forge | (default, Sep 29 2021, 19:14:40) [MSC v.1916 64 bit (AMD64)]', 'platform': 'Windows-10-10.0.19043-SP0', 'event': 'train'}\n",
      "2021-10-14 23:36:20,879 : INFO : EPOCH 1 - PROGRESS: at 1.41% examples, 35419 words/s, in_qsize 12, out_qsize 0\n",
      "2021-10-14 23:36:21,941 : INFO : EPOCH 1 - PROGRESS: at 9.84% examples, 141990 words/s, in_qsize 15, out_qsize 0\n",
      "2021-10-14 23:36:22,964 : INFO : EPOCH 1 - PROGRESS: at 18.43% examples, 182547 words/s, in_qsize 15, out_qsize 0\n",
      "2021-10-14 23:36:23,972 : INFO : EPOCH 1 - PROGRESS: at 28.56% examples, 212269 words/s, in_qsize 11, out_qsize 0\n",
      "2021-10-14 23:36:24,972 : INFO : EPOCH 1 - PROGRESS: at 36.25% examples, 216999 words/s, in_qsize 15, out_qsize 0\n",
      "2021-10-14 23:36:25,976 : INFO : EPOCH 1 - PROGRESS: at 46.92% examples, 233232 words/s, in_qsize 13, out_qsize 3\n",
      "2021-10-14 23:36:26,985 : INFO : EPOCH 1 - PROGRESS: at 55.48% examples, 236876 words/s, in_qsize 15, out_qsize 1\n",
      "2021-10-14 23:36:28,080 : INFO : EPOCH 1 - PROGRESS: at 65.64% examples, 242551 words/s, in_qsize 15, out_qsize 0\n",
      "2021-10-14 23:36:29,087 : INFO : EPOCH 1 - PROGRESS: at 75.33% examples, 248772 words/s, in_qsize 15, out_qsize 0\n",
      "2021-10-14 23:36:30,100 : INFO : EPOCH 1 - PROGRESS: at 84.49% examples, 254051 words/s, in_qsize 11, out_qsize 0\n",
      "2021-10-14 23:36:31,117 : INFO : EPOCH 1 - PROGRESS: at 91.98% examples, 252071 words/s, in_qsize 15, out_qsize 0\n",
      "2021-10-14 23:36:31,375 : INFO : worker thread finished; awaiting finish of 7 more threads\n",
      "2021-10-14 23:36:31,380 : INFO : worker thread finished; awaiting finish of 6 more threads\n",
      "2021-10-14 23:36:31,382 : INFO : worker thread finished; awaiting finish of 5 more threads\n",
      "2021-10-14 23:36:31,383 : INFO : worker thread finished; awaiting finish of 4 more threads\n",
      "2021-10-14 23:36:31,386 : INFO : worker thread finished; awaiting finish of 3 more threads\n",
      "2021-10-14 23:36:31,388 : INFO : worker thread finished; awaiting finish of 2 more threads\n",
      "2021-10-14 23:36:31,397 : INFO : worker thread finished; awaiting finish of 1 more threads\n",
      "2021-10-14 23:36:31,399 : INFO : worker thread finished; awaiting finish of 0 more threads\n",
      "2021-10-14 23:36:31,400 : INFO : EPOCH - 1 : training on 3737441 raw words (3124791 effective words) took 11.7s, 267379 effective words/s\n",
      "2021-10-14 23:36:32,419 : INFO : EPOCH 2 - PROGRESS: at 2.12% examples, 68830 words/s, in_qsize 2, out_qsize 0\n",
      "2021-10-14 23:36:33,538 : INFO : EPOCH 2 - PROGRESS: at 7.45% examples, 115791 words/s, in_qsize 14, out_qsize 2\n",
      "2021-10-14 23:36:34,629 : INFO : EPOCH 2 - PROGRESS: at 17.84% examples, 178843 words/s, in_qsize 16, out_qsize 0\n",
      "2021-10-14 23:36:35,749 : INFO : EPOCH 2 - PROGRESS: at 28.07% examples, 204231 words/s, in_qsize 15, out_qsize 1\n",
      "2021-10-14 23:36:36,758 : INFO : EPOCH 2 - PROGRESS: at 37.22% examples, 217782 words/s, in_qsize 14, out_qsize 0\n",
      "2021-10-14 23:36:37,759 : INFO : EPOCH 2 - PROGRESS: at 47.00% examples, 229751 words/s, in_qsize 15, out_qsize 0\n",
      "2021-10-14 23:36:38,768 : INFO : EPOCH 2 - PROGRESS: at 56.15% examples, 237190 words/s, in_qsize 15, out_qsize 0\n",
      "2021-10-14 23:36:39,787 : INFO : EPOCH 2 - PROGRESS: at 65.63% examples, 242396 words/s, in_qsize 15, out_qsize 0\n",
      "2021-10-14 23:36:40,787 : INFO : EPOCH 2 - PROGRESS: at 73.25% examples, 241421 words/s, in_qsize 15, out_qsize 0\n",
      "2021-10-14 23:36:41,790 : INFO : EPOCH 2 - PROGRESS: at 82.04% examples, 246905 words/s, in_qsize 15, out_qsize 0\n",
      "2021-10-14 23:36:42,814 : INFO : EPOCH 2 - PROGRESS: at 90.18% examples, 246915 words/s, in_qsize 10, out_qsize 6\n",
      "2021-10-14 23:36:43,424 : INFO : worker thread finished; awaiting finish of 7 more threads\n",
      "2021-10-14 23:36:43,435 : INFO : worker thread finished; awaiting finish of 6 more threads\n",
      "2021-10-14 23:36:43,441 : INFO : worker thread finished; awaiting finish of 5 more threads\n",
      "2021-10-14 23:36:43,443 : INFO : worker thread finished; awaiting finish of 4 more threads\n",
      "2021-10-14 23:36:43,444 : INFO : worker thread finished; awaiting finish of 3 more threads\n",
      "2021-10-14 23:36:43,458 : INFO : worker thread finished; awaiting finish of 2 more threads\n",
      "2021-10-14 23:36:43,470 : INFO : worker thread finished; awaiting finish of 1 more threads\n",
      "2021-10-14 23:36:43,474 : INFO : worker thread finished; awaiting finish of 0 more threads\n",
      "2021-10-14 23:36:43,475 : INFO : EPOCH - 2 : training on 3737441 raw words (3124430 effective words) took 12.1s, 258864 effective words/s\n",
      "2021-10-14 23:36:44,581 : INFO : EPOCH 3 - PROGRESS: at 1.98% examples, 52670 words/s, in_qsize 4, out_qsize 0\n",
      "2021-10-14 23:36:45,740 : INFO : EPOCH 3 - PROGRESS: at 9.36% examples, 134603 words/s, in_qsize 15, out_qsize 0\n",
      "2021-10-14 23:36:46,772 : INFO : EPOCH 3 - PROGRESS: at 16.25% examples, 160130 words/s, in_qsize 13, out_qsize 3\n",
      "2021-10-14 23:36:47,840 : INFO : EPOCH 3 - PROGRESS: at 25.85% examples, 188653 words/s, in_qsize 13, out_qsize 0\n",
      "2021-10-14 23:36:48,843 : INFO : EPOCH 3 - PROGRESS: at 32.88% examples, 192993 words/s, in_qsize 12, out_qsize 0\n",
      "2021-10-14 23:36:49,856 : INFO : EPOCH 3 - PROGRESS: at 40.39% examples, 198134 words/s, in_qsize 14, out_qsize 3\n",
      "2021-10-14 23:36:50,882 : INFO : EPOCH 3 - PROGRESS: at 50.01% examples, 209604 words/s, in_qsize 12, out_qsize 6\n",
      "2021-10-14 23:36:51,911 : INFO : EPOCH 3 - PROGRESS: at 61.24% examples, 224873 words/s, in_qsize 10, out_qsize 1\n",
      "2021-10-14 23:36:52,924 : INFO : EPOCH 3 - PROGRESS: at 69.27% examples, 226953 words/s, in_qsize 11, out_qsize 4\n",
      "2021-10-14 23:36:54,041 : INFO : EPOCH 3 - PROGRESS: at 78.36% examples, 229632 words/s, in_qsize 16, out_qsize 0\n",
      "2021-10-14 23:36:55,048 : INFO : EPOCH 3 - PROGRESS: at 85.50% examples, 230911 words/s, in_qsize 11, out_qsize 5\n",
      "2021-10-14 23:36:56,021 : INFO : worker thread finished; awaiting finish of 7 more threads\n",
      "2021-10-14 23:36:56,028 : INFO : worker thread finished; awaiting finish of 6 more threads\n",
      "2021-10-14 23:36:56,029 : INFO : worker thread finished; awaiting finish of 5 more threads\n",
      "2021-10-14 23:36:56,030 : INFO : worker thread finished; awaiting finish of 4 more threads\n",
      "2021-10-14 23:36:56,031 : INFO : worker thread finished; awaiting finish of 3 more threads\n",
      "2021-10-14 23:36:56,038 : INFO : worker thread finished; awaiting finish of 2 more threads\n",
      "2021-10-14 23:36:56,044 : INFO : worker thread finished; awaiting finish of 1 more threads\n",
      "2021-10-14 23:36:56,046 : INFO : worker thread finished; awaiting finish of 0 more threads\n",
      "2021-10-14 23:36:56,047 : INFO : EPOCH - 3 : training on 3737441 raw words (3124434 effective words) took 12.6s, 248624 effective words/s\n",
      "2021-10-14 23:36:57,061 : INFO : EPOCH 4 - PROGRESS: at 0.79% examples, 24905 words/s, in_qsize 6, out_qsize 0\n",
      "2021-10-14 23:36:58,160 : INFO : EPOCH 4 - PROGRESS: at 9.26% examples, 143356 words/s, in_qsize 14, out_qsize 1\n",
      "2021-10-14 23:36:59,200 : INFO : EPOCH 4 - PROGRESS: at 17.38% examples, 178000 words/s, in_qsize 16, out_qsize 0\n",
      "2021-10-14 23:37:00,271 : INFO : EPOCH 4 - PROGRESS: at 27.76% examples, 208551 words/s, in_qsize 14, out_qsize 1\n",
      "2021-10-14 23:37:01,280 : INFO : EPOCH 4 - PROGRESS: at 37.22% examples, 223074 words/s, in_qsize 15, out_qsize 0\n",
      "2021-10-14 23:37:02,308 : INFO : EPOCH 4 - PROGRESS: at 46.72% examples, 232086 words/s, in_qsize 15, out_qsize 0\n",
      "2021-10-14 23:37:03,349 : INFO : EPOCH 4 - PROGRESS: at 56.85% examples, 241734 words/s, in_qsize 14, out_qsize 0\n",
      "2021-10-14 23:37:04,399 : INFO : EPOCH 4 - PROGRESS: at 65.44% examples, 242477 words/s, in_qsize 16, out_qsize 0\n",
      "2021-10-14 23:37:05,565 : INFO : EPOCH 4 - PROGRESS: at 75.37% examples, 245113 words/s, in_qsize 15, out_qsize 0\n",
      "2021-10-14 23:37:06,584 : INFO : EPOCH 4 - PROGRESS: at 83.93% examples, 248988 words/s, in_qsize 16, out_qsize 0\n",
      "2021-10-14 23:37:07,675 : INFO : EPOCH 4 - PROGRESS: at 93.56% examples, 251566 words/s, in_qsize 15, out_qsize 0\n",
      "2021-10-14 23:37:07,791 : INFO : worker thread finished; awaiting finish of 7 more threads\n",
      "2021-10-14 23:37:07,795 : INFO : worker thread finished; awaiting finish of 6 more threads\n",
      "2021-10-14 23:37:07,796 : INFO : worker thread finished; awaiting finish of 5 more threads\n",
      "2021-10-14 23:37:07,808 : INFO : worker thread finished; awaiting finish of 4 more threads\n",
      "2021-10-14 23:37:07,818 : INFO : worker thread finished; awaiting finish of 3 more threads\n",
      "2021-10-14 23:37:07,838 : INFO : worker thread finished; awaiting finish of 2 more threads\n",
      "2021-10-14 23:37:07,841 : INFO : worker thread finished; awaiting finish of 1 more threads\n",
      "2021-10-14 23:37:07,842 : INFO : worker thread finished; awaiting finish of 0 more threads\n",
      "2021-10-14 23:37:07,842 : INFO : EPOCH - 4 : training on 3737441 raw words (3124600 effective words) took 11.8s, 265029 effective words/s\n",
      "2021-10-14 23:37:09,169 : INFO : EPOCH 5 - PROGRESS: at 1.68% examples, 37589 words/s, in_qsize 8, out_qsize 0\n",
      "2021-10-14 23:37:10,335 : INFO : EPOCH 5 - PROGRESS: at 9.36% examples, 122286 words/s, in_qsize 15, out_qsize 0\n",
      "2021-10-14 23:37:11,355 : INFO : EPOCH 5 - PROGRESS: at 16.83% examples, 154955 words/s, in_qsize 15, out_qsize 0\n",
      "2021-10-14 23:37:12,518 : INFO : EPOCH 5 - PROGRESS: at 26.69% examples, 181320 words/s, in_qsize 15, out_qsize 0\n",
      "2021-10-14 23:37:13,530 : INFO : EPOCH 5 - PROGRESS: at 35.52% examples, 196583 words/s, in_qsize 13, out_qsize 3\n",
      "2021-10-14 23:37:14,717 : INFO : EPOCH 5 - PROGRESS: at 47.55% examples, 214900 words/s, in_qsize 15, out_qsize 0\n",
      "2021-10-14 23:37:15,741 : INFO : EPOCH 5 - PROGRESS: at 55.50% examples, 218183 words/s, in_qsize 14, out_qsize 0\n",
      "2021-10-14 23:37:16,772 : INFO : EPOCH 5 - PROGRESS: at 63.24% examples, 219404 words/s, in_qsize 10, out_qsize 6\n",
      "2021-10-14 23:37:17,788 : INFO : EPOCH 5 - PROGRESS: at 71.28% examples, 221486 words/s, in_qsize 15, out_qsize 0\n",
      "2021-10-14 23:37:18,842 : INFO : EPOCH 5 - PROGRESS: at 79.00% examples, 223520 words/s, in_qsize 15, out_qsize 0\n",
      "2021-10-14 23:37:19,851 : INFO : EPOCH 5 - PROGRESS: at 87.32% examples, 226598 words/s, in_qsize 14, out_qsize 1\n",
      "2021-10-14 23:37:20,803 : INFO : worker thread finished; awaiting finish of 7 more threads\n",
      "2021-10-14 23:37:20,806 : INFO : worker thread finished; awaiting finish of 6 more threads\n",
      "2021-10-14 23:37:20,807 : INFO : worker thread finished; awaiting finish of 5 more threads\n",
      "2021-10-14 23:37:20,810 : INFO : worker thread finished; awaiting finish of 4 more threads\n",
      "2021-10-14 23:37:20,815 : INFO : worker thread finished; awaiting finish of 3 more threads\n",
      "2021-10-14 23:37:20,822 : INFO : worker thread finished; awaiting finish of 2 more threads\n",
      "2021-10-14 23:37:20,825 : INFO : worker thread finished; awaiting finish of 1 more threads\n",
      "2021-10-14 23:37:20,828 : INFO : worker thread finished; awaiting finish of 0 more threads\n",
      "2021-10-14 23:37:20,829 : INFO : EPOCH - 5 : training on 3737441 raw words (3124311 effective words) took 13.0s, 240673 effective words/s\n",
      "2021-10-14 23:37:20,831 : INFO : Word2Vec lifecycle event {'msg': 'training on 18687205 raw words (15622566 effective words) took 61.1s, 255593 effective words/s', 'datetime': '2021-10-14T23:37:20.831342', 'gensim': '4.1.2', 'python': '3.8.12 | packaged by conda-forge | (default, Sep 29 2021, 19:14:40) [MSC v.1916 64 bit (AMD64)]', 'platform': 'Windows-10-10.0.19043-SP0', 'event': 'train'}\n",
      "2021-10-14 23:37:20,831 : INFO : Word2Vec lifecycle event {'params': 'Word2Vec(vocab=40397, vector_size=100, alpha=0.025)', 'datetime': '2021-10-14T23:37:20.831342', 'gensim': '4.1.2', 'python': '3.8.12 | packaged by conda-forge | (default, Sep 29 2021, 19:14:40) [MSC v.1916 64 bit (AMD64)]', 'platform': 'Windows-10-10.0.19043-SP0', 'event': 'created'}\n",
      "2021-10-14 23:37:20,832 : INFO : Word2Vec lifecycle event {'fname_or_handle': 'word2vec\\\\devign.wv', 'separately': 'None', 'sep_limit': 10485760, 'ignore': frozenset(), 'datetime': '2021-10-14T23:37:20.832343', 'gensim': '4.1.2', 'python': '3.8.12 | packaged by conda-forge | (default, Sep 29 2021, 19:14:40) [MSC v.1916 64 bit (AMD64)]', 'platform': 'Windows-10-10.0.19043-SP0', 'event': 'saving'}\n",
      "2021-10-14 23:37:20,833 : INFO : not storing attribute cum_table\n"
     ]
    },
    {
     "ename": "FileNotFoundError",
     "evalue": "[Errno 2] No such file or directory: 'word2vec\\\\devign.wv'",
     "output_type": "error",
     "traceback": [
      "\u001B[1;31m---------------------------------------------------------------------------\u001B[0m",
      "\u001B[1;31mTypeError\u001B[0m                                 Traceback (most recent call last)",
      "\u001B[1;32mD:\\anaconda3\\envs\\code_gnn\\lib\\site-packages\\gensim\\utils.py\u001B[0m in \u001B[0;36msave\u001B[1;34m(self, fname_or_handle, separately, sep_limit, ignore, pickle_protocol)\u001B[0m\n\u001B[0;32m    762\u001B[0m         \u001B[1;32mtry\u001B[0m\u001B[1;33m:\u001B[0m\u001B[1;33m\u001B[0m\u001B[1;33m\u001B[0m\u001B[0m\n\u001B[1;32m--> 763\u001B[1;33m             \u001B[0m_pickle\u001B[0m\u001B[1;33m.\u001B[0m\u001B[0mdump\u001B[0m\u001B[1;33m(\u001B[0m\u001B[0mself\u001B[0m\u001B[1;33m,\u001B[0m \u001B[0mfname_or_handle\u001B[0m\u001B[1;33m,\u001B[0m \u001B[0mprotocol\u001B[0m\u001B[1;33m=\u001B[0m\u001B[0mpickle_protocol\u001B[0m\u001B[1;33m)\u001B[0m\u001B[1;33m\u001B[0m\u001B[1;33m\u001B[0m\u001B[0m\n\u001B[0m\u001B[0;32m    764\u001B[0m             \u001B[0mlogger\u001B[0m\u001B[1;33m.\u001B[0m\u001B[0minfo\u001B[0m\u001B[1;33m(\u001B[0m\u001B[1;34m\"saved %s object\"\u001B[0m\u001B[1;33m,\u001B[0m \u001B[0mself\u001B[0m\u001B[1;33m.\u001B[0m\u001B[0m__class__\u001B[0m\u001B[1;33m.\u001B[0m\u001B[0m__name__\u001B[0m\u001B[1;33m)\u001B[0m\u001B[1;33m\u001B[0m\u001B[1;33m\u001B[0m\u001B[0m\n",
      "\u001B[1;31mTypeError\u001B[0m: file must have a 'write' attribute",
      "\nDuring handling of the above exception, another exception occurred:\n",
      "\u001B[1;31mFileNotFoundError\u001B[0m                         Traceback (most recent call last)",
      "\u001B[1;32m~\\AppData\\Local\\Temp/ipykernel_2948/1807043605.py\u001B[0m in \u001B[0;36m<module>\u001B[1;34m\u001B[0m\n\u001B[0;32m     24\u001B[0m         \u001B[0msentences\u001B[0m \u001B[1;33m=\u001B[0m \u001B[0mcorpuses\u001B[0m\u001B[1;33m[\u001B[0m\u001B[0mcorpus\u001B[0m\u001B[1;33m]\u001B[0m\u001B[1;33m(\u001B[0m\u001B[1;33m)\u001B[0m\u001B[1;33m\u001B[0m\u001B[1;33m\u001B[0m\u001B[0m\n\u001B[0;32m     25\u001B[0m         \u001B[0mmodel\u001B[0m \u001B[1;33m=\u001B[0m \u001B[0mgensim\u001B[0m\u001B[1;33m.\u001B[0m\u001B[0mmodels\u001B[0m\u001B[1;33m.\u001B[0m\u001B[0mWord2Vec\u001B[0m\u001B[1;33m(\u001B[0m\u001B[0msentences\u001B[0m\u001B[1;33m=\u001B[0m\u001B[0msentences\u001B[0m\u001B[1;33m,\u001B[0m \u001B[0mworkers\u001B[0m\u001B[1;33m=\u001B[0m\u001B[1;36m8\u001B[0m\u001B[1;33m,\u001B[0m \u001B[0mwindow\u001B[0m\u001B[1;33m=\u001B[0m\u001B[1;36m10\u001B[0m\u001B[1;33m,\u001B[0m \u001B[0mvector_size\u001B[0m\u001B[1;33m=\u001B[0m\u001B[1;36m100\u001B[0m\u001B[1;33m)\u001B[0m\u001B[1;33m\u001B[0m\u001B[1;33m\u001B[0m\u001B[0m\n\u001B[1;32m---> 26\u001B[1;33m         \u001B[0mmodel\u001B[0m\u001B[1;33m.\u001B[0m\u001B[0msave\u001B[0m\u001B[1;33m(\u001B[0m\u001B[0mos\u001B[0m\u001B[1;33m.\u001B[0m\u001B[0mpath\u001B[0m\u001B[1;33m.\u001B[0m\u001B[0mjoin\u001B[0m\u001B[1;33m(\u001B[0m\u001B[1;34m'word2vec'\u001B[0m\u001B[1;33m,\u001B[0m \u001B[0mcorpus_pretrained\u001B[0m\u001B[1;33m)\u001B[0m\u001B[1;33m)\u001B[0m\u001B[1;33m\u001B[0m\u001B[1;33m\u001B[0m\u001B[0m\n\u001B[0m\u001B[0;32m     27\u001B[0m     \u001B[0mevaluate_words\u001B[0m\u001B[1;33m(\u001B[0m\u001B[0mmodel\u001B[0m\u001B[1;33m.\u001B[0m\u001B[0mwv\u001B[0m\u001B[1;33m)\u001B[0m\u001B[1;33m\u001B[0m\u001B[1;33m\u001B[0m\u001B[0m\n\u001B[0;32m     28\u001B[0m     \u001B[1;32mfor\u001B[0m \u001B[0mindex\u001B[0m\u001B[1;33m,\u001B[0m \u001B[0mword\u001B[0m \u001B[1;32min\u001B[0m \u001B[0menumerate\u001B[0m\u001B[1;33m(\u001B[0m\u001B[0mmodel\u001B[0m\u001B[1;33m.\u001B[0m\u001B[0mwv\u001B[0m\u001B[1;33m.\u001B[0m\u001B[0mindex_to_key\u001B[0m\u001B[1;33m)\u001B[0m\u001B[1;33m:\u001B[0m\u001B[1;33m\u001B[0m\u001B[1;33m\u001B[0m\u001B[0m\n",
      "\u001B[1;32mD:\\anaconda3\\envs\\code_gnn\\lib\\site-packages\\gensim\\models\\word2vec.py\u001B[0m in \u001B[0;36msave\u001B[1;34m(self, *args, **kwargs)\u001B[0m\n\u001B[0;32m   1898\u001B[0m \u001B[1;33m\u001B[0m\u001B[0m\n\u001B[0;32m   1899\u001B[0m         \"\"\"\n\u001B[1;32m-> 1900\u001B[1;33m         \u001B[0msuper\u001B[0m\u001B[1;33m(\u001B[0m\u001B[0mWord2Vec\u001B[0m\u001B[1;33m,\u001B[0m \u001B[0mself\u001B[0m\u001B[1;33m)\u001B[0m\u001B[1;33m.\u001B[0m\u001B[0msave\u001B[0m\u001B[1;33m(\u001B[0m\u001B[1;33m*\u001B[0m\u001B[0margs\u001B[0m\u001B[1;33m,\u001B[0m \u001B[1;33m**\u001B[0m\u001B[0mkwargs\u001B[0m\u001B[1;33m)\u001B[0m\u001B[1;33m\u001B[0m\u001B[1;33m\u001B[0m\u001B[0m\n\u001B[0m\u001B[0;32m   1901\u001B[0m \u001B[1;33m\u001B[0m\u001B[0m\n\u001B[0;32m   1902\u001B[0m     \u001B[1;32mdef\u001B[0m \u001B[0m_save_specials\u001B[0m\u001B[1;33m(\u001B[0m\u001B[0mself\u001B[0m\u001B[1;33m,\u001B[0m \u001B[0mfname\u001B[0m\u001B[1;33m,\u001B[0m \u001B[0mseparately\u001B[0m\u001B[1;33m,\u001B[0m \u001B[0msep_limit\u001B[0m\u001B[1;33m,\u001B[0m \u001B[0mignore\u001B[0m\u001B[1;33m,\u001B[0m \u001B[0mpickle_protocol\u001B[0m\u001B[1;33m,\u001B[0m \u001B[0mcompress\u001B[0m\u001B[1;33m,\u001B[0m \u001B[0msubname\u001B[0m\u001B[1;33m)\u001B[0m\u001B[1;33m:\u001B[0m\u001B[1;33m\u001B[0m\u001B[1;33m\u001B[0m\u001B[0m\n",
      "\u001B[1;32mD:\\anaconda3\\envs\\code_gnn\\lib\\site-packages\\gensim\\utils.py\u001B[0m in \u001B[0;36msave\u001B[1;34m(self, fname_or_handle, separately, sep_limit, ignore, pickle_protocol)\u001B[0m\n\u001B[0;32m    764\u001B[0m             \u001B[0mlogger\u001B[0m\u001B[1;33m.\u001B[0m\u001B[0minfo\u001B[0m\u001B[1;33m(\u001B[0m\u001B[1;34m\"saved %s object\"\u001B[0m\u001B[1;33m,\u001B[0m \u001B[0mself\u001B[0m\u001B[1;33m.\u001B[0m\u001B[0m__class__\u001B[0m\u001B[1;33m.\u001B[0m\u001B[0m__name__\u001B[0m\u001B[1;33m)\u001B[0m\u001B[1;33m\u001B[0m\u001B[1;33m\u001B[0m\u001B[0m\n\u001B[0;32m    765\u001B[0m         \u001B[1;32mexcept\u001B[0m \u001B[0mTypeError\u001B[0m\u001B[1;33m:\u001B[0m  \u001B[1;31m# `fname_or_handle` does not have write attribute\u001B[0m\u001B[1;33m\u001B[0m\u001B[1;33m\u001B[0m\u001B[0m\n\u001B[1;32m--> 766\u001B[1;33m             \u001B[0mself\u001B[0m\u001B[1;33m.\u001B[0m\u001B[0m_smart_save\u001B[0m\u001B[1;33m(\u001B[0m\u001B[0mfname_or_handle\u001B[0m\u001B[1;33m,\u001B[0m \u001B[0mseparately\u001B[0m\u001B[1;33m,\u001B[0m \u001B[0msep_limit\u001B[0m\u001B[1;33m,\u001B[0m \u001B[0mignore\u001B[0m\u001B[1;33m,\u001B[0m \u001B[0mpickle_protocol\u001B[0m\u001B[1;33m=\u001B[0m\u001B[0mpickle_protocol\u001B[0m\u001B[1;33m)\u001B[0m\u001B[1;33m\u001B[0m\u001B[1;33m\u001B[0m\u001B[0m\n\u001B[0m\u001B[0;32m    767\u001B[0m \u001B[1;33m\u001B[0m\u001B[0m\n\u001B[0;32m    768\u001B[0m \u001B[1;33m\u001B[0m\u001B[0m\n",
      "\u001B[1;32mD:\\anaconda3\\envs\\code_gnn\\lib\\site-packages\\gensim\\utils.py\u001B[0m in \u001B[0;36m_smart_save\u001B[1;34m(self, fname, separately, sep_limit, ignore, pickle_protocol)\u001B[0m\n\u001B[0;32m    608\u001B[0m         )\n\u001B[0;32m    609\u001B[0m         \u001B[1;32mtry\u001B[0m\u001B[1;33m:\u001B[0m\u001B[1;33m\u001B[0m\u001B[1;33m\u001B[0m\u001B[0m\n\u001B[1;32m--> 610\u001B[1;33m             \u001B[0mpickle\u001B[0m\u001B[1;33m(\u001B[0m\u001B[0mself\u001B[0m\u001B[1;33m,\u001B[0m \u001B[0mfname\u001B[0m\u001B[1;33m,\u001B[0m \u001B[0mprotocol\u001B[0m\u001B[1;33m=\u001B[0m\u001B[0mpickle_protocol\u001B[0m\u001B[1;33m)\u001B[0m\u001B[1;33m\u001B[0m\u001B[1;33m\u001B[0m\u001B[0m\n\u001B[0m\u001B[0;32m    611\u001B[0m         \u001B[1;32mfinally\u001B[0m\u001B[1;33m:\u001B[0m\u001B[1;33m\u001B[0m\u001B[1;33m\u001B[0m\u001B[0m\n\u001B[0;32m    612\u001B[0m             \u001B[1;31m# restore attribs handled specially\u001B[0m\u001B[1;33m\u001B[0m\u001B[1;33m\u001B[0m\u001B[1;33m\u001B[0m\u001B[0m\n",
      "\u001B[1;32mD:\\anaconda3\\envs\\code_gnn\\lib\\site-packages\\gensim\\utils.py\u001B[0m in \u001B[0;36mpickle\u001B[1;34m(obj, fname, protocol)\u001B[0m\n\u001B[0;32m   1439\u001B[0m \u001B[1;33m\u001B[0m\u001B[0m\n\u001B[0;32m   1440\u001B[0m     \"\"\"\n\u001B[1;32m-> 1441\u001B[1;33m     \u001B[1;32mwith\u001B[0m \u001B[0mopen\u001B[0m\u001B[1;33m(\u001B[0m\u001B[0mfname\u001B[0m\u001B[1;33m,\u001B[0m \u001B[1;34m'wb'\u001B[0m\u001B[1;33m)\u001B[0m \u001B[1;32mas\u001B[0m \u001B[0mfout\u001B[0m\u001B[1;33m:\u001B[0m  \u001B[1;31m# 'b' for binary, needed on Windows\u001B[0m\u001B[1;33m\u001B[0m\u001B[1;33m\u001B[0m\u001B[0m\n\u001B[0m\u001B[0;32m   1442\u001B[0m         \u001B[0m_pickle\u001B[0m\u001B[1;33m.\u001B[0m\u001B[0mdump\u001B[0m\u001B[1;33m(\u001B[0m\u001B[0mobj\u001B[0m\u001B[1;33m,\u001B[0m \u001B[0mfout\u001B[0m\u001B[1;33m,\u001B[0m \u001B[0mprotocol\u001B[0m\u001B[1;33m=\u001B[0m\u001B[0mprotocol\u001B[0m\u001B[1;33m)\u001B[0m\u001B[1;33m\u001B[0m\u001B[1;33m\u001B[0m\u001B[0m\n\u001B[0;32m   1443\u001B[0m \u001B[1;33m\u001B[0m\u001B[0m\n",
      "\u001B[1;32mD:\\anaconda3\\envs\\code_gnn\\lib\\site-packages\\smart_open\\smart_open_lib.py\u001B[0m in \u001B[0;36mopen\u001B[1;34m(uri, mode, buffering, encoding, errors, newline, closefd, opener, ignore_ext, compression, transport_params)\u001B[0m\n\u001B[0;32m    186\u001B[0m         \u001B[0mtransport_params\u001B[0m \u001B[1;33m=\u001B[0m \u001B[1;33m{\u001B[0m\u001B[1;33m}\u001B[0m\u001B[1;33m\u001B[0m\u001B[1;33m\u001B[0m\u001B[0m\n\u001B[0;32m    187\u001B[0m \u001B[1;33m\u001B[0m\u001B[0m\n\u001B[1;32m--> 188\u001B[1;33m     fobj = _shortcut_open(\n\u001B[0m\u001B[0;32m    189\u001B[0m         \u001B[0muri\u001B[0m\u001B[1;33m,\u001B[0m\u001B[1;33m\u001B[0m\u001B[1;33m\u001B[0m\u001B[0m\n\u001B[0;32m    190\u001B[0m         \u001B[0mmode\u001B[0m\u001B[1;33m,\u001B[0m\u001B[1;33m\u001B[0m\u001B[1;33m\u001B[0m\u001B[0m\n",
      "\u001B[1;32mD:\\anaconda3\\envs\\code_gnn\\lib\\site-packages\\smart_open\\smart_open_lib.py\u001B[0m in \u001B[0;36m_shortcut_open\u001B[1;34m(uri, mode, compression, buffering, encoding, errors, newline)\u001B[0m\n\u001B[0;32m    359\u001B[0m         \u001B[0mopen_kwargs\u001B[0m\u001B[1;33m[\u001B[0m\u001B[1;34m'errors'\u001B[0m\u001B[1;33m]\u001B[0m \u001B[1;33m=\u001B[0m \u001B[0merrors\u001B[0m\u001B[1;33m\u001B[0m\u001B[1;33m\u001B[0m\u001B[0m\n\u001B[0;32m    360\u001B[0m \u001B[1;33m\u001B[0m\u001B[0m\n\u001B[1;32m--> 361\u001B[1;33m     \u001B[1;32mreturn\u001B[0m \u001B[0m_builtin_open\u001B[0m\u001B[1;33m(\u001B[0m\u001B[0mlocal_path\u001B[0m\u001B[1;33m,\u001B[0m \u001B[0mmode\u001B[0m\u001B[1;33m,\u001B[0m \u001B[0mbuffering\u001B[0m\u001B[1;33m=\u001B[0m\u001B[0mbuffering\u001B[0m\u001B[1;33m,\u001B[0m \u001B[1;33m**\u001B[0m\u001B[0mopen_kwargs\u001B[0m\u001B[1;33m)\u001B[0m\u001B[1;33m\u001B[0m\u001B[1;33m\u001B[0m\u001B[0m\n\u001B[0m\u001B[0;32m    362\u001B[0m \u001B[1;33m\u001B[0m\u001B[0m\n\u001B[0;32m    363\u001B[0m \u001B[1;33m\u001B[0m\u001B[0m\n",
      "\u001B[1;31mFileNotFoundError\u001B[0m: [Errno 2] No such file or directory: 'word2vec\\\\devign.wv'"
     ]
    }
   ],
   "metadata": {}
  },
  {
   "cell_type": "code",
   "execution_count": 9,
   "outputs": [
    {
     "name": "stderr",
     "output_type": "stream",
     "text": [
      "2021-10-14 23:37:55,405 : INFO : Word2Vec lifecycle event {'fname_or_handle': '../word2vec\\\\devign.wv', 'separately': 'None', 'sep_limit': 10485760, 'ignore': frozenset(), 'datetime': '2021-10-14T23:37:55.405328', 'gensim': '4.1.2', 'python': '3.8.12 | packaged by conda-forge | (default, Sep 29 2021, 19:14:40) [MSC v.1916 64 bit (AMD64)]', 'platform': 'Windows-10-10.0.19043-SP0', 'event': 'saving'}\n",
      "2021-10-14 23:37:55,406 : INFO : not storing attribute cum_table\n",
      "2021-10-14 23:37:55,446 : INFO : saved ../word2vec\\devign.wv\n"
     ]
    }
   ],
   "source": [
    "\n",
    "model.save(os.path.join('../word2vec', corpus_pretrained))"
   ],
   "metadata": {
    "collapsed": false,
    "pycharm": {
     "name": "#%%\n"
    }
   }
  }
 ],
 "metadata": {
  "kernelspec": {
   "name": "code_gnn",
   "language": "python",
   "display_name": "code_gnn"
  },
  "language_info": {
   "name": "python",
   "version": "3.8.12",
   "mimetype": "text/x-python",
   "codemirror_mode": {
    "name": "ipython",
    "version": 3
   },
   "pygments_lexer": "ipython3",
   "nbconvert_exporter": "python",
   "file_extension": ".py"
  },
  "interpreter": {
   "hash": "123c5e74196e019eec794a72f1d98320b78d8f3ae7d64c37b3810afad0e48470"
  }
 },
 "nbformat": 4,
 "nbformat_minor": 2
}