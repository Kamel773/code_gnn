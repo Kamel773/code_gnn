{
 "cells": [
  {
   "cell_type": "code",
   "execution_count": 2,
   "metadata": {},
   "outputs": [
    {
     "data": {
      "text/plain": [
       "2732"
      ]
     },
     "execution_count": 2,
     "metadata": {},
     "output_type": "execute_result"
    }
   ],
   "source": [
    "import json\r\n",
    "with open('dataset/test.jsonl') as f:\r\n",
    "    test = [json.loads(jline) for jline in f.readlines()]\r\n",
    "len(test)"
   ]
  },
  {
   "cell_type": "code",
   "execution_count": 2,
   "metadata": {},
   "outputs": [
    {
     "name": "stdout",
     "output_type": "stream",
     "text": [
      "heyo\n"
     ]
    }
   ],
   "source": [
    "# print(test[0].keys())\r\n",
    "for t in test:\r\n",
    "    if sum(1 for l in t[\"func\"].replace('\\n\\n', '\\n').splitlines() if l == '{') > 1:\r\n",
    "        print('heyo')"
   ]
  },
  {
   "cell_type": "code",
   "execution_count": null,
   "metadata": {},
   "outputs": [],
   "source": []
  },
  {
   "cell_type": "code",
   "execution_count": 11,
   "metadata": {},
   "outputs": [
    {
     "name": "stdout",
     "output_type": "stream",
     "text": [
      "qemu c0c24b95542bc1a4dc3fc6ea71475ae04fa69189\n",
      "qemu 5c6c0e513600ba57c3e73b7151d3c0664438f7b5\n",
      "qemu 4482e05cbbb7e50e476f6a9500cf0b38913bd939\n",
      "qemu 301c7d38a0c359b91526391d13617386f3d9bb29\n",
      "qemu 9bb234b3b170299c39c9e88cfe7da5434a92d99d\n",
      "FFmpeg 5ff998a233d759d0de83ea6f95c383d03d25d88e\n",
      "FFmpeg c23acbaed40101c677dfcfbbfe0d2c230a8e8f44\n",
      "FFmpeg 323e6fead07c75f418e4b60704a4f437bb3483b2\n",
      "FFmpeg 2bfd0a97587d26c0c39413a6291ccc66e4a928d0\n",
      "FFmpeg 7bf3f380466eeff24916fd6218aca13e414c6240\n"
     ]
    }
   ],
   "source": [
    "for t in [t for t in test if t[\"target\"] == 1 and t[\"project\"] == 'qemu'][:5]:\r\n",
    "    print(t[\"project\"], t[\"commit_id\"])\r\n",
    "for t in [t for t in test if t[\"target\"] == 1 and t[\"project\"] == 'FFmpeg'][:5]:\r\n",
    "    print(t[\"project\"], t[\"commit_id\"])"
   ]
  },
  {
   "cell_type": "code",
   "execution_count": 6,
   "metadata": {},
   "outputs": [
    {
     "name": "stdout",
     "output_type": "stream",
     "text": [
      "*** FFmpeg 5ff998a233d759d0de83ea6f95c383d03d25d88e 1 ***\n",
      "static int subframe_count_exact(FlacEncodeContext *s, FlacSubframe *sub,\n",
      "                                int pred_order)\n",
      "{\n",
      "    int p, porder, psize;\n",
      "    int i, part_end;\n",
      "    int count = 0;\n",
      "\n",
      "    /* subframe header */\n",
      "    count += 8;\n",
      "\n",
      "    /* subframe */\n",
      "    if (sub->type == FLAC_SUBFRAME_CONSTANT) {\n",
      "        count += sub->obits;\n",
      "    } else if (sub->type == FLAC_SUBFRAME_VERBATIM) {\n",
      "        count += s->frame.blocksize * sub->obits;\n",
      "    } else {\n",
      "        /* warm-up samples */\n",
      "        count += pred_order * sub->obits;\n",
      "\n",
      "        /* LPC coefficients */\n",
      "        if (sub->type == FLAC_SUBFRAME_LPC)\n",
      "            count += 4 + 5 + pred_order * s->options.lpc_coeff_precision;\n",
      "\n",
      "        /* rice-encoded block */\n",
      "        count += 2;\n",
      "\n",
      "        /* partition order */\n",
      "        porder = sub->rc.porder;\n",
      "        psize  = s->frame.blocksize >> porder;\n",
      "        count += 4;\n",
      "\n",
      "        /* residual */\n",
      "        i        = pred_order;\n",
      "        part_end = psize;\n",
      "        for (p = 0; p < 1 << porder; p++) {\n",
      "            int k = sub->rc.params[p];\n",
      "            count += 4;\n",
      "            count += rice_count_exact(&sub->residual[i], part_end - i, k);\n",
      "            i = part_end;\n",
      "            part_end = FFMIN(s->frame.blocksize, part_end + psize);\n",
      "        }\n",
      "    }\n",
      "\n",
      "    return count;\n",
      "}\n",
      "\n"
     ]
    }
   ],
   "source": [
    "t = next(t for t in test if t[\"target\"] == 1 and t[\"project\"] == 'FFmpeg')\r\n",
    "print('***', t[\"project\"], t[\"commit_id\"], t[\"target\"], '***')\r\n",
    "print(t[\"func\"].replace('\\n\\n', '\\n'))"
   ]
  },
  {
   "cell_type": "code",
   "execution_count": 9,
   "metadata": {},
   "outputs": [
    {
     "name": "stdout",
     "output_type": "stream",
     "text": [
      "*** qemu c0c24b95542bc1a4dc3fc6ea71475ae04fa69189 1 ***\n",
      "static int xen_9pfs_connect(struct XenDevice *xendev)\n",
      "{\n",
      "    int i;\n",
      "    Xen9pfsDev *xen_9pdev = container_of(xendev, Xen9pfsDev, xendev);\n",
      "    V9fsState *s = &xen_9pdev->state;\n",
      "    QemuOpts *fsdev;\n",
      "\n",
      "    if (xenstore_read_fe_int(&xen_9pdev->xendev, \"num-rings\",\n",
      "                             &xen_9pdev->num_rings) == -1 ||\n",
      "        xen_9pdev->num_rings > MAX_RINGS || xen_9pdev->num_rings < 1) {\n",
      "        return -1;\n",
      "    }\n",
      "\n",
      "    xen_9pdev->rings = g_malloc0(xen_9pdev->num_rings * sizeof(Xen9pfsRing));\n",
      "    for (i = 0; i < xen_9pdev->num_rings; i++) {\n",
      "        char *str;\n",
      "        int ring_order;\n",
      "\n",
      "        xen_9pdev->rings[i].priv = xen_9pdev;\n",
      "        xen_9pdev->rings[i].evtchn = -1;\n",
      "        xen_9pdev->rings[i].local_port = -1;\n",
      "\n",
      "        str = g_strdup_printf(\"ring-ref%u\", i);\n",
      "        if (xenstore_read_fe_int(&xen_9pdev->xendev, str,\n",
      "                                 &xen_9pdev->rings[i].ref) == -1) {\n",
      "\n",
      "            goto out;\n",
      "        }\n",
      "\n",
      "        str = g_strdup_printf(\"event-channel-%u\", i);\n",
      "        if (xenstore_read_fe_int(&xen_9pdev->xendev, str,\n",
      "                                 &xen_9pdev->rings[i].evtchn) == -1) {\n",
      "\n",
      "            goto out;\n",
      "        }\n",
      "\n",
      "\n",
      "        xen_9pdev->rings[i].intf =  xengnttab_map_grant_ref(\n",
      "                xen_9pdev->xendev.gnttabdev,\n",
      "                xen_9pdev->xendev.dom,\n",
      "                xen_9pdev->rings[i].ref,\n",
      "                PROT_READ | PROT_WRITE);\n",
      "        if (!xen_9pdev->rings[i].intf) {\n",
      "            goto out;\n",
      "        }\n",
      "        ring_order = xen_9pdev->rings[i].intf->ring_order;\n",
      "        if (ring_order > MAX_RING_ORDER) {\n",
      "            goto out;\n",
      "        }\n",
      "        xen_9pdev->rings[i].ring_order = ring_order;\n",
      "        xen_9pdev->rings[i].data = xengnttab_map_domain_grant_refs(\n",
      "                xen_9pdev->xendev.gnttabdev,\n",
      "                (1 << ring_order),\n",
      "                xen_9pdev->xendev.dom,\n",
      "                xen_9pdev->rings[i].intf->ref,\n",
      "                PROT_READ | PROT_WRITE);\n",
      "        if (!xen_9pdev->rings[i].data) {\n",
      "            goto out;\n",
      "        }\n",
      "        xen_9pdev->rings[i].ring.in = xen_9pdev->rings[i].data;\n",
      "        xen_9pdev->rings[i].ring.out = xen_9pdev->rings[i].data +\n",
      "                                       XEN_FLEX_RING_SIZE(ring_order);\n",
      "\n",
      "        xen_9pdev->rings[i].bh = qemu_bh_new(xen_9pfs_bh, &xen_9pdev->rings[i]);\n",
      "        xen_9pdev->rings[i].out_cons = 0;\n",
      "        xen_9pdev->rings[i].out_size = 0;\n",
      "        xen_9pdev->rings[i].inprogress = false;\n",
      "\n",
      "\n",
      "        xen_9pdev->rings[i].evtchndev = xenevtchn_open(NULL, 0);\n",
      "        if (xen_9pdev->rings[i].evtchndev == NULL) {\n",
      "            goto out;\n",
      "        }\n",
      "        fcntl(xenevtchn_fd(xen_9pdev->rings[i].evtchndev), F_SETFD, FD_CLOEXEC);\n",
      "        xen_9pdev->rings[i].local_port = xenevtchn_bind_interdomain\n",
      "                                            (xen_9pdev->rings[i].evtchndev,\n",
      "                                             xendev->dom,\n",
      "                                             xen_9pdev->rings[i].evtchn);\n",
      "        if (xen_9pdev->rings[i].local_port == -1) {\n",
      "            xen_pv_printf(xendev, 0,\n",
      "                          \"xenevtchn_bind_interdomain failed port=%d\\n\",\n",
      "                          xen_9pdev->rings[i].evtchn);\n",
      "            goto out;\n",
      "        }\n",
      "        xen_pv_printf(xendev, 2, \"bind evtchn port %d\\n\", xendev->local_port);\n",
      "        qemu_set_fd_handler(xenevtchn_fd(xen_9pdev->rings[i].evtchndev),\n",
      "                xen_9pfs_evtchn_event, NULL, &xen_9pdev->rings[i]);\n",
      "    }\n",
      "\n",
      "    xen_9pdev->security_model = xenstore_read_be_str(xendev, \"security_model\");\n",
      "    xen_9pdev->path = xenstore_read_be_str(xendev, \"path\");\n",
      "    xen_9pdev->id = s->fsconf.fsdev_id =\n",
      "        g_strdup_printf(\"xen9p%d\", xendev->dev);\n",
      "    xen_9pdev->tag = s->fsconf.tag = xenstore_read_fe_str(xendev, \"tag\");\n",
      "    v9fs_register_transport(s, &xen_9p_transport);\n",
      "    fsdev = qemu_opts_create(qemu_find_opts(\"fsdev\"),\n",
      "            s->fsconf.tag,\n",
      "            1, NULL);\n",
      "    qemu_opt_set(fsdev, \"fsdriver\", \"local\", NULL);\n",
      "    qemu_opt_set(fsdev, \"path\", xen_9pdev->path, NULL);\n",
      "    qemu_opt_set(fsdev, \"security_model\", xen_9pdev->security_model, NULL);\n",
      "    qemu_opts_set_id(fsdev, s->fsconf.fsdev_id);\n",
      "    qemu_fsdev_add(fsdev);\n",
      "    v9fs_device_realize_common(s, NULL);\n",
      "\n",
      "    return 0;\n",
      "\n",
      "out:\n",
      "    xen_9pfs_free(xendev);\n",
      "    return -1;\n",
      "}\n"
     ]
    }
   ],
   "source": [
    "t = next(t for t in test if t[\"target\"] == 1 and t[\"project\"] == 'qemu')\r\n",
    "print('***', t[\"project\"], t[\"commit_id\"], t[\"target\"], '***')\r\n",
    "print(t[\"func\"].replace('\\n\\n', '\\n'))"
   ]
  },
  {
   "cell_type": "code",
   "execution_count": null,
   "metadata": {},
   "outputs": [],
   "source": []
  }
 ],
 "metadata": {
  "interpreter": {
   "hash": "7b4b4feff2f24a0f0a34464dbe537a36fda679851528fb8735cb41fa49dffb2d"
  },
  "kernelspec": {
   "display_name": "Python 3.8.8 64-bit ('base': conda)",
   "name": "python3"
  },
  "language_info": {
   "codemirror_mode": {
    "name": "ipython",
    "version": 3
   },
   "file_extension": ".py",
   "mimetype": "text/x-python",
   "name": "python",
   "nbconvert_exporter": "python",
   "pygments_lexer": "ipython3",
   "version": "3.8.8"
  },
  "orig_nbformat": 4
 },
 "nbformat": 4,
 "nbformat_minor": 2
}